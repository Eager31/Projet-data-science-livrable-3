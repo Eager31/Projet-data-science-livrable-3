{
 "cells": [
  {
   "cell_type": "markdown",
   "metadata": {},
   "source": [
    "# Livrable 3 : Captioning\n",
    "\n",
    "|Auteur|Centre|Modification|\n",
    "|---|---|---|\n",
    "|Emilien Pons|Toulouse|2021/01/15|\n",
    "|Nicolas Hurtevent|Toulouse|2021/01/15|\n",
    "|Pierre Mazurier|Toulouse|2021/01/15|\n",
    "|Pacome Chu-Lejeune|Toulouse|2021/01/15|\n",
    "\n",
    "![logoEI_1_6.jpg](https://arras.cesi.fr/wp-content/uploads/sites/9/2019/05/Cesi_Logo_INGENIEUR_RVB-HD-500x296.jpg)"
   ]
  },
  {
   "cell_type": "code",
   "execution_count": null,
   "metadata": {},
   "outputs": [],
   "source": []
  },
  {
   "cell_type": "code",
   "execution_count": null,
   "metadata": {},
   "outputs": [],
   "source": []
  }
 ],
 "metadata": {
  "kernelspec": {
   "display_name": "Python 3",
   "language": "python",
   "name": "python3"
  },
  "language_info": {
   "codemirror_mode": {
    "name": "ipython",
    "version": 3
   },
   "file_extension": ".py",
   "mimetype": "text/x-python",
   "name": "python",
   "nbconvert_exporter": "python",
   "pygments_lexer": "ipython3",
   "version": "3.8.5"
  }
 },
 "nbformat": 4,
 "nbformat_minor": 4
}
